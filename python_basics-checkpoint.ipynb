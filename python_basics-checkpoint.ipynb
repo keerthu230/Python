{
 "cells": [
  {
   "cell_type": "code",
   "execution_count": null,
   "id": "10b1c486",
   "metadata": {},
   "outputs": [],
   "source": [
    "#addition\n",
    "x=2+0+5\n",
    "y=4.2+3\n",
    "x\n",
    "y \n",
    "#executes the last statement to output \n",
    "# here i am trying to print x and y both are print only the last statement y only prints\n"
   ]
  },
  {
   "cell_type": "code",
   "execution_count": null,
   "id": "c701b4e4",
   "metadata": {},
   "outputs": [],
   "source": [
    "y\n"
   ]
  },
  {
   "cell_type": "code",
   "execution_count": null,
   "id": "4d2ecb63",
   "metadata": {},
   "outputs": [],
   "source": [
    "x"
   ]
  },
  {
   "cell_type": "code",
   "execution_count": null,
   "id": "d0a01a0c",
   "metadata": {},
   "outputs": [],
   "source": [
    "#subtraction \n",
    "100-0-99"
   ]
  },
  {
   "cell_type": "code",
   "execution_count": null,
   "id": "9022eddf",
   "metadata": {},
   "outputs": [],
   "source": [
    "x=9+8\n",
    "x"
   ]
  },
  {
   "cell_type": "code",
   "execution_count": null,
   "id": "1f8b4e67",
   "metadata": {},
   "outputs": [],
   "source": [
    "#multiplication\n",
    "5*4"
   ]
  },
  {
   "cell_type": "code",
   "execution_count": null,
   "id": "755c66c4",
   "metadata": {},
   "outputs": [],
   "source": [
    "#division\n",
    "4/8    #float division\n"
   ]
  },
  {
   "cell_type": "code",
   "execution_count": null,
   "id": "06ce16f7",
   "metadata": {},
   "outputs": [],
   "source": [
    "#integer division\n",
    "4//8"
   ]
  },
  {
   "cell_type": "code",
   "execution_count": null,
   "id": "6b492a87",
   "metadata": {},
   "outputs": [],
   "source": [
    "#reminder \n",
    "25%6"
   ]
  },
  {
   "cell_type": "code",
   "execution_count": null,
   "id": "652bd34b",
   "metadata": {},
   "outputs": [],
   "source": [
    "#power (exponential operator )\n",
    "\n",
    "5**2"
   ]
  },
  {
   "cell_type": "markdown",
   "id": "006c9eb6",
   "metadata": {},
   "source": [
    "website :  www.math-only-math.com\n",
    "\n",
    "## problems  1:\n",
    "\n",
    "The population of a town is 198568. Out of them 45312 are men and 35678 are women. Find the number of children in the town."
   ]
  },
  {
   "cell_type": "code",
   "execution_count": null,
   "id": "bbd46fee",
   "metadata": {},
   "outputs": [],
   "source": [
    "#solution \n",
    "M = 45312  # men\n",
    "W = 35678  # women\n",
    "T =198568  #total_population\n",
    "no_of_children = T-(M+W)\n",
    "e = no_of_children\n",
    "e"
   ]
  },
  {
   "cell_type": "code",
   "execution_count": null,
   "id": "9327ea1a",
   "metadata": {},
   "outputs": [],
   "source": [
    "e+M+W\n"
   ]
  },
  {
   "cell_type": "code",
   "execution_count": null,
   "id": "ad9e2981",
   "metadata": {},
   "outputs": [],
   "source": [
    "9372*124"
   ]
  },
  {
   "cell_type": "code",
   "execution_count": null,
   "id": "6f1ffd15",
   "metadata": {},
   "outputs": [],
   "source": [
    "4356/86\n"
   ]
  },
  {
   "cell_type": "code",
   "execution_count": null,
   "id": "eb8e8632",
   "metadata": {},
   "outputs": [],
   "source": [
    "1575 /75"
   ]
  },
  {
   "cell_type": "code",
   "execution_count": null,
   "id": "01cd04a9",
   "metadata": {},
   "outputs": [],
   "source": [
    "fat=10\n",
    "fat==5"
   ]
  },
  {
   "cell_type": "code",
   "execution_count": null,
   "id": "7d061ad0",
   "metadata": {},
   "outputs": [],
   "source": [
    "\"\"\" this is the sample programming\"\"\"\n",
    "a=5\n",
    "for i in range(0,6):\n",
    "    x=a**i\n",
    "    print(a ,\"power \" ,i ,\"=\" ,x) # print statement string with varibles"
   ]
  },
  {
   "cell_type": "code",
   "execution_count": null,
   "id": "2101c223",
   "metadata": {},
   "outputs": [],
   "source": [
    "3!=1"
   ]
  },
  {
   "cell_type": "code",
   "execution_count": null,
   "id": "55d1210b",
   "metadata": {},
   "outputs": [],
   "source": [
    "# 0=0 SyntaxError: cannot assign to literal\n",
    "0==0"
   ]
  },
  {
   "cell_type": "markdown",
   "id": "a0307942",
   "metadata": {},
   "source": [
    "## logical operators "
   ]
  },
  {
   "cell_type": "code",
   "execution_count": null,
   "id": "ddc5ec4d",
   "metadata": {},
   "outputs": [],
   "source": [
    "# and operator\n",
    "True and True"
   ]
  },
  {
   "cell_type": "code",
   "execution_count": null,
   "id": "5f602b76",
   "metadata": {},
   "outputs": [],
   "source": [
    "True and False"
   ]
  },
  {
   "cell_type": "code",
   "execution_count": null,
   "id": "1c2c0b19",
   "metadata": {},
   "outputs": [],
   "source": [
    "a=1\n",
    "b=0\n",
    "a<0 and b>=0"
   ]
  },
  {
   "cell_type": "code",
   "execution_count": null,
   "id": "54fce281",
   "metadata": {},
   "outputs": [],
   "source": [
    "#or operator \n",
    "a>=2 or b>=5"
   ]
  },
  {
   "cell_type": "code",
   "execution_count": null,
   "id": "8cff1e85",
   "metadata": {},
   "outputs": [],
   "source": [
    "a>=1 or b>=5"
   ]
  },
  {
   "cell_type": "code",
   "execution_count": null,
   "id": "170f4de0",
   "metadata": {},
   "outputs": [],
   "source": [
    "True or False"
   ]
  },
  {
   "cell_type": "code",
   "execution_count": null,
   "id": "3d9eb679",
   "metadata": {},
   "outputs": [],
   "source": [
    "# not operator \n",
    "not 1"
   ]
  },
  {
   "cell_type": "code",
   "execution_count": null,
   "id": "341e16a4",
   "metadata": {},
   "outputs": [],
   "source": [
    "not 0"
   ]
  },
  {
   "cell_type": "code",
   "execution_count": null,
   "id": "2a2dc961",
   "metadata": {},
   "outputs": [],
   "source": [
    "not True "
   ]
  },
  {
   "cell_type": "code",
   "execution_count": null,
   "id": "36034609",
   "metadata": {},
   "outputs": [],
   "source": [
    "not False"
   ]
  },
  {
   "cell_type": "code",
   "execution_count": null,
   "id": "a0667531",
   "metadata": {},
   "outputs": [],
   "source": [
    "not a>=1"
   ]
  },
  {
   "cell_type": "code",
   "execution_count": null,
   "id": "83d29b01",
   "metadata": {
    "scrolled": true
   },
   "outputs": [],
   "source": [
    "not b>8"
   ]
  },
  {
   "cell_type": "markdown",
   "id": "387dee5f",
   "metadata": {},
   "source": [
    "## Data types"
   ]
  },
  {
   "cell_type": "code",
   "execution_count": null,
   "id": "a04972b9",
   "metadata": {},
   "outputs": [],
   "source": [
    "# data types\n",
    "a= \"data\"\n",
    "a\n"
   ]
  },
  {
   "cell_type": "code",
   "execution_count": 3,
   "id": "f207ff6c",
   "metadata": {},
   "outputs": [],
   "source": [
    "x,b,c=\"ab\",\"bc\",\"ca\""
   ]
  },
  {
   "cell_type": "code",
   "execution_count": 4,
   "id": "0c2b1b93",
   "metadata": {},
   "outputs": [
    {
     "data": {
      "text/plain": [
       "'ab'"
      ]
     },
     "execution_count": 4,
     "metadata": {},
     "output_type": "execute_result"
    }
   ],
   "source": [
    "x"
   ]
  },
  {
   "cell_type": "markdown",
   "id": "96cab92a",
   "metadata": {},
   "source": [
    "## Project Euler Problem 1"
   ]
  },
  {
   "cell_type": "code",
   "execution_count": 29,
   "id": "f7dac24b",
   "metadata": {},
   "outputs": [
    {
     "name": "stdout",
     "output_type": "stream",
     "text": [
      "233168\n"
     ]
    }
   ],
   "source": [
    "sum=0\n",
    "for i in range (1,1000):\n",
    "    if (i%3==0 or i%5==0):\n",
    "        sum+=i\n",
    "        \n",
    "        \n",
    "print(sum)        "
   ]
  },
  {
   "cell_type": "code",
   "execution_count": 30,
   "id": "8b5d2a91",
   "metadata": {},
   "outputs": [
    {
     "data": {
      "text/plain": [
       "'bc'"
      ]
     },
     "execution_count": 30,
     "metadata": {},
     "output_type": "execute_result"
    }
   ],
   "source": [
    "b"
   ]
  },
  {
   "cell_type": "code",
   "execution_count": 31,
   "id": "dd59ce3f",
   "metadata": {},
   "outputs": [
    {
     "data": {
      "text/plain": [
       "'ca'"
      ]
     },
     "execution_count": 31,
     "metadata": {},
     "output_type": "execute_result"
    }
   ],
   "source": [
    "c"
   ]
  },
  {
   "cell_type": "code",
   "execution_count": 32,
   "id": "ffe1a85f",
   "metadata": {},
   "outputs": [],
   "source": [
    "a=b=c=\"one\""
   ]
  },
  {
   "cell_type": "code",
   "execution_count": 33,
   "id": "88a068e5",
   "metadata": {},
   "outputs": [
    {
     "data": {
      "text/plain": [
       "'one'"
      ]
     },
     "execution_count": 33,
     "metadata": {},
     "output_type": "execute_result"
    }
   ],
   "source": [
    "a"
   ]
  },
  {
   "cell_type": "code",
   "execution_count": 34,
   "id": "db1aa86a",
   "metadata": {},
   "outputs": [
    {
     "data": {
      "text/plain": [
       "'one'"
      ]
     },
     "execution_count": 34,
     "metadata": {},
     "output_type": "execute_result"
    }
   ],
   "source": [
    "b"
   ]
  },
  {
   "cell_type": "code",
   "execution_count": 35,
   "id": "9ffae119",
   "metadata": {},
   "outputs": [
    {
     "data": {
      "text/plain": [
       "'one'"
      ]
     },
     "execution_count": 35,
     "metadata": {},
     "output_type": "execute_result"
    }
   ],
   "source": [
    "c"
   ]
  },
  {
   "cell_type": "code",
   "execution_count": 36,
   "id": "2faaa6ac",
   "metadata": {},
   "outputs": [],
   "source": [
    "b=\"two\""
   ]
  },
  {
   "cell_type": "code",
   "execution_count": 40,
   "id": "614a6d05",
   "metadata": {},
   "outputs": [
    {
     "name": "stdout",
     "output_type": "stream",
     "text": [
      "3 7 8\n"
     ]
    }
   ],
   "source": [
    "b,c,d=3,7,8\n",
    "print(b,c,d)"
   ]
  },
  {
   "cell_type": "code",
   "execution_count": 39,
   "id": "172ce5b7",
   "metadata": {},
   "outputs": [
    {
     "data": {
      "text/plain": [
       "5"
      ]
     },
     "execution_count": 39,
     "metadata": {},
     "output_type": "execute_result"
    }
   ],
   "source": [
    "#incrementation \n",
    "count=1\n",
    "count+=4\n",
    "count"
   ]
  },
  {
   "cell_type": "markdown",
   "id": "d624fc3d",
   "metadata": {},
   "source": [
    "## Variable Name Conventions"
   ]
  },
  {
   "cell_type": "code",
   "execution_count": 47,
   "id": "98846bf0",
   "metadata": {},
   "outputs": [],
   "source": [
    "A=10   # start with lower or upper case letters or _\n",
    "_A=0\n",
    "a=0    # variable names are case sensitive \n",
    "A0a =4\n",
    "\n",
    "# allowed lower or upper case letters and 0-9 & _"
   ]
  },
  {
   "cell_type": "markdown",
   "id": "ed9db9f2",
   "metadata": {},
   "source": [
    "## Type()"
   ]
  },
  {
   "cell_type": "code",
   "execution_count": 48,
   "id": "445a9014",
   "metadata": {},
   "outputs": [
    {
     "data": {
      "text/plain": [
       "int"
      ]
     },
     "execution_count": 48,
     "metadata": {},
     "output_type": "execute_result"
    }
   ],
   "source": [
    "type(A)"
   ]
  },
  {
   "cell_type": "code",
   "execution_count": 49,
   "id": "e94f5d68",
   "metadata": {},
   "outputs": [
    {
     "data": {
      "text/plain": [
       "str"
      ]
     },
     "execution_count": 49,
     "metadata": {},
     "output_type": "execute_result"
    }
   ],
   "source": [
    "zev=\"one\"\n",
    "type(zev)"
   ]
  },
  {
   "cell_type": "code",
   "execution_count": 50,
   "id": "ac9c715d",
   "metadata": {},
   "outputs": [],
   "source": [
    "talk = ('1','2','3')"
   ]
  },
  {
   "cell_type": "code",
   "execution_count": 51,
   "id": "6961ce3a",
   "metadata": {},
   "outputs": [
    {
     "data": {
      "text/plain": [
       "tuple"
      ]
     },
     "execution_count": 51,
     "metadata": {},
     "output_type": "execute_result"
    }
   ],
   "source": [
    "type(talk)"
   ]
  },
  {
   "cell_type": "code",
   "execution_count": 52,
   "id": "dd591907",
   "metadata": {},
   "outputs": [],
   "source": [
    "moon =[ \"keer\" , \"farina\" , \"pavi \"]"
   ]
  },
  {
   "cell_type": "code",
   "execution_count": 53,
   "id": "179b7286",
   "metadata": {},
   "outputs": [
    {
     "data": {
      "text/plain": [
       "list"
      ]
     },
     "execution_count": 53,
     "metadata": {},
     "output_type": "execute_result"
    }
   ],
   "source": [
    "type(moon)"
   ]
  },
  {
   "cell_type": "code",
   "execution_count": 55,
   "id": "12afdc1c",
   "metadata": {},
   "outputs": [],
   "source": [
    "p={'color':'blue'}"
   ]
  },
  {
   "cell_type": "code",
   "execution_count": 56,
   "id": "db8aba1d",
   "metadata": {},
   "outputs": [
    {
     "data": {
      "text/plain": [
       "dict"
      ]
     },
     "execution_count": 56,
     "metadata": {},
     "output_type": "execute_result"
    }
   ],
   "source": [
    "type(p)"
   ]
  },
  {
   "cell_type": "code",
   "execution_count": 57,
   "id": "f0e948de",
   "metadata": {},
   "outputs": [
    {
     "data": {
      "text/plain": [
       "0.001"
      ]
     },
     "execution_count": 57,
     "metadata": {},
     "output_type": "execute_result"
    }
   ],
   "source": [
    "#float \n",
    "x=1e-3 # scientific notaion e-1= 10 power(-1)\n",
    "x"
   ]
  },
  {
   "cell_type": "code",
   "execution_count": 58,
   "id": "c8a81d2e",
   "metadata": {},
   "outputs": [],
   "source": [
    "avogadro = 6.02345454e23"
   ]
  },
  {
   "cell_type": "code",
   "execution_count": 59,
   "id": "a425453b",
   "metadata": {},
   "outputs": [
    {
     "data": {
      "text/plain": [
       "6.02345454e+23"
      ]
     },
     "execution_count": 59,
     "metadata": {},
     "output_type": "execute_result"
    }
   ],
   "source": [
    "avogadro"
   ]
  },
  {
   "cell_type": "code",
   "execution_count": 60,
   "id": "7c6682ea",
   "metadata": {},
   "outputs": [],
   "source": [
    "d=6e10"
   ]
  },
  {
   "cell_type": "code",
   "execution_count": 61,
   "id": "6206c0b7",
   "metadata": {},
   "outputs": [
    {
     "data": {
      "text/plain": [
       "60000000000.0"
      ]
     },
     "execution_count": 61,
     "metadata": {},
     "output_type": "execute_result"
    }
   ],
   "source": [
    "d"
   ]
  },
  {
   "cell_type": "code",
   "execution_count": 62,
   "id": "f56fd4e1",
   "metadata": {},
   "outputs": [],
   "source": [
    "# conversion \n",
    "# Float to integer , integer to float\n",
    "pi = 3.14\n",
    "apple =50"
   ]
  },
  {
   "cell_type": "code",
   "execution_count": 63,
   "id": "77930d90",
   "metadata": {},
   "outputs": [
    {
     "data": {
      "text/plain": [
       "3"
      ]
     },
     "execution_count": 63,
     "metadata": {},
     "output_type": "execute_result"
    }
   ],
   "source": [
    "int(pi)"
   ]
  },
  {
   "cell_type": "code",
   "execution_count": 64,
   "id": "73da0de9",
   "metadata": {},
   "outputs": [
    {
     "data": {
      "text/plain": [
       "50.0"
      ]
     },
     "execution_count": 64,
     "metadata": {},
     "output_type": "execute_result"
    }
   ],
   "source": [
    "float(apple)"
   ]
  },
  {
   "cell_type": "code",
   "execution_count": 65,
   "id": "d992b035",
   "metadata": {},
   "outputs": [
    {
     "data": {
      "text/plain": [
       "float"
      ]
     },
     "execution_count": 65,
     "metadata": {},
     "output_type": "execute_result"
    }
   ],
   "source": [
    "type(2*4.0)"
   ]
  },
  {
   "cell_type": "code",
   "execution_count": 66,
   "id": "fd4c6bf5",
   "metadata": {},
   "outputs": [
    {
     "data": {
      "text/plain": [
       "int"
      ]
     },
     "execution_count": 66,
     "metadata": {},
     "output_type": "execute_result"
    }
   ],
   "source": [
    "type(1*4)"
   ]
  },
  {
   "cell_type": "code",
   "execution_count": 67,
   "id": "d3d69a7e",
   "metadata": {},
   "outputs": [
    {
     "data": {
      "text/plain": [
       "float"
      ]
     },
     "execution_count": 67,
     "metadata": {},
     "output_type": "execute_result"
    }
   ],
   "source": [
    "type(10/6)"
   ]
  },
  {
   "cell_type": "code",
   "execution_count": 68,
   "id": "60425015",
   "metadata": {},
   "outputs": [
    {
     "data": {
      "text/plain": [
       "int"
      ]
     },
     "execution_count": 68,
     "metadata": {},
     "output_type": "execute_result"
    }
   ],
   "source": [
    "type(10//6)"
   ]
  },
  {
   "cell_type": "code",
   "execution_count": 81,
   "id": "a25dc52e",
   "metadata": {},
   "outputs": [
    {
     "data": {
      "text/plain": [
       "str"
      ]
     },
     "execution_count": 81,
     "metadata": {},
     "output_type": "execute_result"
    }
   ],
   "source": [
    "type(\"add \"*3)"
   ]
  },
  {
   "cell_type": "code",
   "execution_count": 80,
   "id": "66958b69",
   "metadata": {},
   "outputs": [
    {
     "data": {
      "text/plain": [
       "'add add add '"
      ]
     },
     "execution_count": 80,
     "metadata": {},
     "output_type": "execute_result"
    }
   ],
   "source": [
    "\"add \"*3"
   ]
  },
  {
   "cell_type": "code",
   "execution_count": 82,
   "id": "ff4da69f",
   "metadata": {},
   "outputs": [
    {
     "data": {
      "text/plain": [
       "True"
      ]
     },
     "execution_count": 82,
     "metadata": {},
     "output_type": "execute_result"
    }
   ],
   "source": [
    "#boolean \n",
    "red=True\n",
    "red"
   ]
  },
  {
   "cell_type": "code",
   "execution_count": 83,
   "id": "6f34f31d",
   "metadata": {},
   "outputs": [
    {
     "data": {
      "text/plain": [
       "False"
      ]
     },
     "execution_count": 83,
     "metadata": {},
     "output_type": "execute_result"
    }
   ],
   "source": [
    "0>4"
   ]
  },
  {
   "cell_type": "code",
   "execution_count": 85,
   "id": "546093fe",
   "metadata": {},
   "outputs": [
    {
     "data": {
      "text/plain": [
       "False"
      ]
     },
     "execution_count": 85,
     "metadata": {},
     "output_type": "execute_result"
    }
   ],
   "source": [
    "you=(0<9)==(0>9) #boolean in expression output is true or false is stored\n",
    "you"
   ]
  },
  {
   "cell_type": "code",
   "execution_count": 95,
   "id": "0c027244",
   "metadata": {
    "scrolled": true
   },
   "outputs": [
    {
     "data": {
      "text/plain": [
       "0"
      ]
     },
     "execution_count": 95,
     "metadata": {},
     "output_type": "execute_result"
    }
   ],
   "source": [
    "y=int(you)\n",
    "y"
   ]
  },
  {
   "cell_type": "code",
   "execution_count": 98,
   "id": "9ff8fd77",
   "metadata": {},
   "outputs": [
    {
     "data": {
      "text/plain": [
       "True"
      ]
     },
     "execution_count": 98,
     "metadata": {},
     "output_type": "execute_result"
    }
   ],
   "source": [
    "# bool type \n",
    "bool(100)\n"
   ]
  },
  {
   "cell_type": "code",
   "execution_count": 97,
   "id": "6510536c",
   "metadata": {},
   "outputs": [
    {
     "data": {
      "text/plain": [
       "False"
      ]
     },
     "execution_count": 97,
     "metadata": {},
     "output_type": "execute_result"
    }
   ],
   "source": [
    "bool(False)"
   ]
  },
  {
   "cell_type": "markdown",
   "id": "6bf09fe3",
   "metadata": {},
   "source": [
    "## None Type"
   ]
  },
  {
   "cell_type": "code",
   "execution_count": 99,
   "id": "eef25087",
   "metadata": {},
   "outputs": [
    {
     "data": {
      "text/plain": [
       "NoneType"
      ]
     },
     "execution_count": 99,
     "metadata": {},
     "output_type": "execute_result"
    }
   ],
   "source": [
    "# None Type \n",
    "data = None \n",
    "type(data)\n"
   ]
  },
  {
   "cell_type": "code",
   "execution_count": 102,
   "id": "14dd4910",
   "metadata": {},
   "outputs": [
    {
     "name": "stdout",
     "output_type": "stream",
     "text": [
      "None is this \n"
     ]
    }
   ],
   "source": [
    "print (data , \"is this \")"
   ]
  },
  {
   "cell_type": "markdown",
   "id": "aa5df8c5",
   "metadata": {},
   "source": [
    "## String Type"
   ]
  },
  {
   "cell_type": "code",
   "execution_count": 104,
   "id": "cf42f776",
   "metadata": {},
   "outputs": [
    {
     "name": "stdout",
     "output_type": "stream",
     "text": [
      "lady baby\n"
     ]
    }
   ],
   "source": [
    "# string \n",
    "aunt = \"lady\"\n",
    "joe = 'baby'  # both '' & \" \" used to declare a string \n",
    "print (aunt , joe)"
   ]
  },
  {
   "cell_type": "code",
   "execution_count": 106,
   "id": "b5c130e7",
   "metadata": {},
   "outputs": [
    {
     "ename": "SyntaxError",
     "evalue": "invalid syntax (<ipython-input-106-fca0a0a8484b>, line 2)",
     "output_type": "error",
     "traceback": [
      "\u001b[1;36m  File \u001b[1;32m\"<ipython-input-106-fca0a0a8484b>\"\u001b[1;36m, line \u001b[1;32m2\u001b[0m\n\u001b[1;33m    'apple's flash are much tasty then orange's pulp'\u001b[0m\n\u001b[1;37m           ^\u001b[0m\n\u001b[1;31mSyntaxError\u001b[0m\u001b[1;31m:\u001b[0m invalid syntax\n"
     ]
    }
   ],
   "source": [
    "# multiple ' used \n",
    "'apple's flash are much tasty then orange's pulp'"
   ]
  },
  {
   "cell_type": "code",
   "execution_count": 110,
   "id": "85790eae",
   "metadata": {},
   "outputs": [],
   "source": [
    "statement = 'apple\\'s flash are much tasty then orange\\'s pulp'"
   ]
  },
  {
   "cell_type": "code",
   "execution_count": 111,
   "id": "ed468450",
   "metadata": {},
   "outputs": [
    {
     "data": {
      "text/plain": [
       "\"apple's flash are much tasty then orange's pulp\""
      ]
     },
     "execution_count": 111,
     "metadata": {},
     "output_type": "execute_result"
    }
   ],
   "source": [
    "statement"
   ]
  },
  {
   "cell_type": "code",
   "execution_count": 112,
   "id": "67646bd9",
   "metadata": {},
   "outputs": [],
   "source": [
    "# multiline strings\n",
    "\"\"\" this is a tutorial for python\"\"\"\n",
    "x=99"
   ]
  },
  {
   "cell_type": "code",
   "execution_count": 115,
   "id": "4317b57a",
   "metadata": {},
   "outputs": [
    {
     "data": {
      "text/plain": [
       "'a\\nb'"
      ]
     },
     "execution_count": 115,
     "metadata": {},
     "output_type": "execute_result"
    }
   ],
   "source": [
    "art = \"\"\"a\n",
    "b\"\"\"\n",
    "art # \\n taken as character"
   ]
  },
  {
   "cell_type": "code",
   "execution_count": 114,
   "id": "56db08e2",
   "metadata": {},
   "outputs": [
    {
     "data": {
      "text/plain": [
       "3"
      ]
     },
     "execution_count": 114,
     "metadata": {},
     "output_type": "execute_result"
    }
   ],
   "source": [
    "len(art)"
   ]
  },
  {
   "cell_type": "code",
   "execution_count": 116,
   "id": "bed8fc78",
   "metadata": {},
   "outputs": [
    {
     "data": {
      "text/plain": [
       "['a', '\\n', 'b']"
      ]
     },
     "execution_count": 116,
     "metadata": {},
     "output_type": "execute_result"
    }
   ],
   "source": [
    "list(art)"
   ]
  },
  {
   "cell_type": "code",
   "execution_count": 117,
   "id": "2b477c97",
   "metadata": {},
   "outputs": [
    {
     "data": {
      "text/plain": [
       "'m'"
      ]
     },
     "execution_count": 117,
     "metadata": {},
     "output_type": "execute_result"
    }
   ],
   "source": [
    "day=\"monday\"\n",
    "day[0]"
   ]
  },
  {
   "cell_type": "code",
   "execution_count": 120,
   "id": "d479d83b",
   "metadata": {},
   "outputs": [
    {
     "data": {
      "text/plain": [
       "'monday'"
      ]
     },
     "execution_count": 120,
     "metadata": {},
     "output_type": "execute_result"
    }
   ],
   "source": [
    "#slice\n",
    "day[:]"
   ]
  },
  {
   "cell_type": "code",
   "execution_count": 121,
   "id": "b2adfcc1",
   "metadata": {},
   "outputs": [
    {
     "data": {
      "text/plain": [
       "'monday'"
      ]
     },
     "execution_count": 121,
     "metadata": {},
     "output_type": "execute_result"
    }
   ],
   "source": [
    "day[0:6]"
   ]
  },
  {
   "cell_type": "code",
   "execution_count": 122,
   "id": "7dabaa08",
   "metadata": {},
   "outputs": [
    {
     "data": {
      "text/plain": [
       "'monda'"
      ]
     },
     "execution_count": 122,
     "metadata": {},
     "output_type": "execute_result"
    }
   ],
   "source": [
    "day[:5]"
   ]
  },
  {
   "cell_type": "code",
   "execution_count": 125,
   "id": "a03e7385",
   "metadata": {},
   "outputs": [
    {
     "data": {
      "text/plain": [
       "'nday'"
      ]
     },
     "execution_count": 125,
     "metadata": {},
     "output_type": "execute_result"
    }
   ],
   "source": [
    "day[2:]"
   ]
  },
  {
   "cell_type": "code",
   "execution_count": 132,
   "id": "4988ca2e",
   "metadata": {},
   "outputs": [
    {
     "data": {
      "text/plain": [
       "True"
      ]
     },
     "execution_count": 132,
     "metadata": {},
     "output_type": "execute_result"
    }
   ],
   "source": [
    "day= \"sunday\"\n",
    "'day' in day"
   ]
  },
  {
   "cell_type": "code",
   "execution_count": 133,
   "id": "6984c227",
   "metadata": {},
   "outputs": [
    {
     "data": {
      "text/plain": [
       "False"
      ]
     },
     "execution_count": 133,
     "metadata": {},
     "output_type": "execute_result"
    }
   ],
   "source": [
    "'sat' in day"
   ]
  },
  {
   "cell_type": "code",
   "execution_count": 134,
   "id": "f8c386b5",
   "metadata": {},
   "outputs": [
    {
     "data": {
      "text/plain": [
       "True"
      ]
     },
     "execution_count": 134,
     "metadata": {},
     "output_type": "execute_result"
    }
   ],
   "source": [
    "'sun' in day"
   ]
  },
  {
   "cell_type": "code",
   "execution_count": 135,
   "id": "00c2a82e",
   "metadata": {},
   "outputs": [
    {
     "data": {
      "text/plain": [
       "'goodgirl'"
      ]
     },
     "execution_count": 135,
     "metadata": {},
     "output_type": "execute_result"
    }
   ],
   "source": [
    "a= \"good\"\n",
    "b= 'girl'\n",
    "a+b"
   ]
  },
  {
   "cell_type": "code",
   "execution_count": 139,
   "id": "d4400da8",
   "metadata": {},
   "outputs": [
    {
     "data": {
      "text/plain": [
       "'good girl! o_o'"
      ]
     },
     "execution_count": 139,
     "metadata": {},
     "output_type": "execute_result"
    }
   ],
   "source": [
    "a+\" \"+ b+\"! o_o\""
   ]
  },
  {
   "cell_type": "code",
   "execution_count": 140,
   "id": "37d68534",
   "metadata": {},
   "outputs": [],
   "source": [
    "today=\"monday\"\n",
    "next=\"GOOD JOB\"\n"
   ]
  },
  {
   "cell_type": "code",
   "execution_count": 141,
   "id": "3cee59f0",
   "metadata": {},
   "outputs": [
    {
     "data": {
      "text/plain": [
       "'MONDAY'"
      ]
     },
     "execution_count": 141,
     "metadata": {},
     "output_type": "execute_result"
    }
   ],
   "source": [
    "today.upper()"
   ]
  },
  {
   "cell_type": "code",
   "execution_count": 143,
   "id": "5a2815d2",
   "metadata": {},
   "outputs": [
    {
     "data": {
      "text/plain": [
       "'good job'"
      ]
     },
     "execution_count": 143,
     "metadata": {},
     "output_type": "execute_result"
    }
   ],
   "source": [
    "next.lower()"
   ]
  },
  {
   "cell_type": "code",
   "execution_count": 144,
   "id": "9a663775",
   "metadata": {},
   "outputs": [
    {
     "data": {
      "text/plain": [
       "'Monday'"
      ]
     },
     "execution_count": 144,
     "metadata": {},
     "output_type": "execute_result"
    }
   ],
   "source": [
    "today.capitalize()"
   ]
  },
  {
   "cell_type": "code",
   "execution_count": 148,
   "id": "b8c500d9",
   "metadata": {},
   "outputs": [],
   "source": [
    "next_day = today.replace(\"mon\",\"tues\")"
   ]
  },
  {
   "cell_type": "code",
   "execution_count": 149,
   "id": "9b4ff009",
   "metadata": {},
   "outputs": [
    {
     "data": {
      "text/plain": [
       "'tuesday'"
      ]
     },
     "execution_count": 149,
     "metadata": {},
     "output_type": "execute_result"
    }
   ],
   "source": [
    "next_day"
   ]
  },
  {
   "cell_type": "code",
   "execution_count": 152,
   "id": "e2598f68",
   "metadata": {},
   "outputs": [
    {
     "data": {
      "text/plain": [
       "['good', ' bad', ' god', ' goddess', ' kid', 'old']"
      ]
     },
     "execution_count": 152,
     "metadata": {},
     "output_type": "execute_result"
    }
   ],
   "source": [
    "\"good, bad, god, goddess, kid,old\".split(\",\") # split is seperating the string into the list"
   ]
  },
  {
   "cell_type": "code",
   "execution_count": 155,
   "id": "34860f33",
   "metadata": {},
   "outputs": [],
   "source": [
    "# strip method is used to remove the white space \n",
    "para = \"       i love      python      \".strip() # remove extra space from front and back  not in the middle "
   ]
  },
  {
   "cell_type": "code",
   "execution_count": 156,
   "id": "8adec214",
   "metadata": {},
   "outputs": [
    {
     "data": {
      "text/plain": [
       "'i love      python'"
      ]
     },
     "execution_count": 156,
     "metadata": {},
     "output_type": "execute_result"
    }
   ],
   "source": [
    "para"
   ]
  },
  {
   "cell_type": "code",
   "execution_count": 163,
   "id": "ed986932",
   "metadata": {},
   "outputs": [],
   "source": [
    "# format method usage \n",
    "output_template = \"this is a bag of {} apples each cost {} , i totally spent {} out of {} in my wallet , remaining amount {}\""
   ]
  },
  {
   "cell_type": "code",
   "execution_count": 164,
   "id": "462de22d",
   "metadata": {},
   "outputs": [
    {
     "data": {
      "text/plain": [
       "'this is a bag of 20 apples each cost 50 , i totally spent 1000 out of 5000 in my wallet , remaining amount 4000'"
      ]
     },
     "execution_count": 164,
     "metadata": {},
     "output_type": "execute_result"
    }
   ],
   "source": [
    "apples=20\n",
    "cost=50\n",
    "wallet=5000\n",
    "\n",
    "\n",
    "message = output_template.format(apples,cost,(apples*cost),wallet , wallet-(apples*cost))\n",
    "message"
   ]
  },
  {
   "cell_type": "code",
   "execution_count": 165,
   "id": "50b6c81b",
   "metadata": {},
   "outputs": [
    {
     "ename": "TypeError",
     "evalue": "can only concatenate str (not \"int\") to str",
     "output_type": "error",
     "traceback": [
      "\u001b[1;31m---------------------------------------------------------------------------\u001b[0m",
      "\u001b[1;31mTypeError\u001b[0m                                 Traceback (most recent call last)",
      "\u001b[1;32m<ipython-input-165-d7c498b5233f>\u001b[0m in \u001b[0;36m<module>\u001b[1;34m\u001b[0m\n\u001b[0;32m      1\u001b[0m \u001b[1;31m# concate string with integer\u001b[0m\u001b[1;33m\u001b[0m\u001b[1;33m\u001b[0m\u001b[1;33m\u001b[0m\u001b[0m\n\u001b[1;32m----> 2\u001b[1;33m \u001b[1;34m\"there are \"\u001b[0m \u001b[1;33m+\u001b[0m \u001b[1;36m20\u001b[0m \u001b[1;33m+\u001b[0m \u001b[1;34m\" children\"\u001b[0m\u001b[1;33m\u001b[0m\u001b[1;33m\u001b[0m\u001b[0m\n\u001b[0m",
      "\u001b[1;31mTypeError\u001b[0m: can only concatenate str (not \"int\") to str"
     ]
    }
   ],
   "source": [
    "# concate string with integer \n",
    "\"there are \" + 20 + \" children\" # it will result in error"
   ]
  },
  {
   "cell_type": "code",
   "execution_count": 167,
   "id": "0c70f9d1",
   "metadata": {},
   "outputs": [
    {
     "data": {
      "text/plain": [
       "'there are 20 children'"
      ]
     },
     "execution_count": 167,
     "metadata": {},
     "output_type": "execute_result"
    }
   ],
   "source": [
    "\"there are \" + str(20) + \" children\" # convert integer to str or better using format()"
   ]
  },
  {
   "cell_type": "code",
   "execution_count": 168,
   "id": "7b6c99eb",
   "metadata": {},
   "outputs": [
    {
     "data": {
      "text/plain": [
       "'23.0'"
      ]
     },
     "execution_count": 168,
     "metadata": {},
     "output_type": "execute_result"
    }
   ],
   "source": [
    "str(23.000)"
   ]
  },
  {
   "cell_type": "code",
   "execution_count": 169,
   "id": "3551ec01",
   "metadata": {},
   "outputs": [
    {
     "data": {
      "text/plain": [
       "'True'"
      ]
     },
     "execution_count": 169,
     "metadata": {},
     "output_type": "execute_result"
    }
   ],
   "source": [
    "str(True)"
   ]
  },
  {
   "cell_type": "code",
   "execution_count": 177,
   "id": "a78208d1",
   "metadata": {},
   "outputs": [
    {
     "data": {
      "text/plain": [
       "\"['a', 'b', 'c']\""
      ]
     },
     "execution_count": 177,
     "metadata": {},
     "output_type": "execute_result"
    }
   ],
   "source": [
    "str(['a','b','c'])"
   ]
  },
  {
   "cell_type": "code",
   "execution_count": 178,
   "id": "517419a5",
   "metadata": {},
   "outputs": [],
   "source": [
    "string =str(['a','b','c'])"
   ]
  },
  {
   "cell_type": "code",
   "execution_count": 179,
   "id": "f4fb9d06",
   "metadata": {},
   "outputs": [
    {
     "data": {
      "text/plain": [
       "15"
      ]
     },
     "execution_count": 179,
     "metadata": {},
     "output_type": "execute_result"
    }
   ],
   "source": [
    "len(string)"
   ]
  },
  {
   "cell_type": "code",
   "execution_count": null,
   "id": "ebb8f496",
   "metadata": {},
   "outputs": [],
   "source": []
  }
 ],
 "metadata": {
  "kernelspec": {
   "display_name": "Python 3",
   "language": "python",
   "name": "python3"
  },
  "language_info": {
   "codemirror_mode": {
    "name": "ipython",
    "version": 3
   },
   "file_extension": ".py",
   "mimetype": "text/x-python",
   "name": "python",
   "nbconvert_exporter": "python",
   "pygments_lexer": "ipython3",
   "version": "3.8.8"
  }
 },
 "nbformat": 4,
 "nbformat_minor": 5
}
